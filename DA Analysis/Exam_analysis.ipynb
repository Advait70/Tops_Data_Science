{
 "cells": [
  {
   "cell_type": "markdown",
   "id": "40eea86f",
   "metadata": {},
   "source": [
    "Analysis About Exams Dataset"
   ]
  },
  {
   "cell_type": "markdown",
   "id": "b2577fa4",
   "metadata": {},
   "source": [
    "# Importing Essential Libraries"
   ]
  },
  {
   "cell_type": "code",
   "execution_count": 108,
   "id": "d2af03d2",
   "metadata": {},
   "outputs": [],
   "source": [
    "import numpy as np\n",
    "import matplotlib.pyplot as plt\n",
    "import pandas as pd"
   ]
  },
  {
   "cell_type": "markdown",
   "id": "ec6bf263",
   "metadata": {},
   "source": [
    "# Fetching the dataset"
   ]
  },
  {
   "cell_type": "code",
   "execution_count": 109,
   "id": "4c9a5f39",
   "metadata": {},
   "outputs": [
    {
     "data": {
      "text/html": [
       "<div>\n",
       "<style scoped>\n",
       "    .dataframe tbody tr th:only-of-type {\n",
       "        vertical-align: middle;\n",
       "    }\n",
       "\n",
       "    .dataframe tbody tr th {\n",
       "        vertical-align: top;\n",
       "    }\n",
       "\n",
       "    .dataframe thead th {\n",
       "        text-align: right;\n",
       "    }\n",
       "</style>\n",
       "<table border=\"1\" class=\"dataframe\">\n",
       "  <thead>\n",
       "    <tr style=\"text-align: right;\">\n",
       "      <th></th>\n",
       "      <th>gender</th>\n",
       "      <th>race/ethnicity</th>\n",
       "      <th>parent_education_level</th>\n",
       "      <th>lunch</th>\n",
       "      <th>test_prep_course</th>\n",
       "      <th>math</th>\n",
       "    </tr>\n",
       "  </thead>\n",
       "  <tbody>\n",
       "    <tr>\n",
       "      <th>0</th>\n",
       "      <td>female</td>\n",
       "      <td>group B</td>\n",
       "      <td>bachelor's degree</td>\n",
       "      <td>standard</td>\n",
       "      <td>none</td>\n",
       "      <td>72</td>\n",
       "    </tr>\n",
       "    <tr>\n",
       "      <th>1</th>\n",
       "      <td>female</td>\n",
       "      <td>group C</td>\n",
       "      <td>some college</td>\n",
       "      <td>standard</td>\n",
       "      <td>completed</td>\n",
       "      <td>69</td>\n",
       "    </tr>\n",
       "    <tr>\n",
       "      <th>2</th>\n",
       "      <td>female</td>\n",
       "      <td>group B</td>\n",
       "      <td>master's degree</td>\n",
       "      <td>standard</td>\n",
       "      <td>none</td>\n",
       "      <td>90</td>\n",
       "    </tr>\n",
       "    <tr>\n",
       "      <th>3</th>\n",
       "      <td>male</td>\n",
       "      <td>group A</td>\n",
       "      <td>associate's degree</td>\n",
       "      <td>free/reduced</td>\n",
       "      <td>none</td>\n",
       "      <td>47</td>\n",
       "    </tr>\n",
       "    <tr>\n",
       "      <th>4</th>\n",
       "      <td>male</td>\n",
       "      <td>group C</td>\n",
       "      <td>some college</td>\n",
       "      <td>standard</td>\n",
       "      <td>none</td>\n",
       "      <td>76</td>\n",
       "    </tr>\n",
       "    <tr>\n",
       "      <th>...</th>\n",
       "      <td>...</td>\n",
       "      <td>...</td>\n",
       "      <td>...</td>\n",
       "      <td>...</td>\n",
       "      <td>...</td>\n",
       "      <td>...</td>\n",
       "    </tr>\n",
       "    <tr>\n",
       "      <th>995</th>\n",
       "      <td>female</td>\n",
       "      <td>group E</td>\n",
       "      <td>master's degree</td>\n",
       "      <td>standard</td>\n",
       "      <td>completed</td>\n",
       "      <td>88</td>\n",
       "    </tr>\n",
       "    <tr>\n",
       "      <th>996</th>\n",
       "      <td>male</td>\n",
       "      <td>group C</td>\n",
       "      <td>high school</td>\n",
       "      <td>free/reduced</td>\n",
       "      <td>none</td>\n",
       "      <td>62</td>\n",
       "    </tr>\n",
       "    <tr>\n",
       "      <th>997</th>\n",
       "      <td>female</td>\n",
       "      <td>group C</td>\n",
       "      <td>high school</td>\n",
       "      <td>free/reduced</td>\n",
       "      <td>completed</td>\n",
       "      <td>59</td>\n",
       "    </tr>\n",
       "    <tr>\n",
       "      <th>998</th>\n",
       "      <td>female</td>\n",
       "      <td>group D</td>\n",
       "      <td>some college</td>\n",
       "      <td>standard</td>\n",
       "      <td>completed</td>\n",
       "      <td>68</td>\n",
       "    </tr>\n",
       "    <tr>\n",
       "      <th>999</th>\n",
       "      <td>female</td>\n",
       "      <td>group D</td>\n",
       "      <td>some college</td>\n",
       "      <td>free/reduced</td>\n",
       "      <td>none</td>\n",
       "      <td>77</td>\n",
       "    </tr>\n",
       "  </tbody>\n",
       "</table>\n",
       "<p>1000 rows × 6 columns</p>\n",
       "</div>"
      ],
      "text/plain": [
       "     gender race/ethnicity parent_education_level         lunch  \\\n",
       "0    female        group B      bachelor's degree      standard   \n",
       "1    female        group C           some college      standard   \n",
       "2    female        group B        master's degree      standard   \n",
       "3      male        group A     associate's degree  free/reduced   \n",
       "4      male        group C           some college      standard   \n",
       "..      ...            ...                    ...           ...   \n",
       "995  female        group E        master's degree      standard   \n",
       "996    male        group C            high school  free/reduced   \n",
       "997  female        group C            high school  free/reduced   \n",
       "998  female        group D           some college      standard   \n",
       "999  female        group D           some college  free/reduced   \n",
       "\n",
       "    test_prep_course  math  \n",
       "0               none    72  \n",
       "1          completed    69  \n",
       "2               none    90  \n",
       "3               none    47  \n",
       "4               none    76  \n",
       "..               ...   ...  \n",
       "995        completed    88  \n",
       "996             none    62  \n",
       "997        completed    59  \n",
       "998        completed    68  \n",
       "999             none    77  \n",
       "\n",
       "[1000 rows x 6 columns]"
      ]
     },
     "execution_count": 109,
     "metadata": {},
     "output_type": "execute_result"
    }
   ],
   "source": [
    "ds=pd.read_csv('C:/Users/hp/Datasets/exams.csv')\n",
    "ds"
   ]
  },
  {
   "cell_type": "markdown",
   "id": "ed0cc061",
   "metadata": {},
   "source": [
    "# Finding Null and Incorrect value and fixing them"
   ]
  },
  {
   "cell_type": "code",
   "execution_count": 110,
   "id": "59004611",
   "metadata": {},
   "outputs": [
    {
     "name": "stdout",
     "output_type": "stream",
     "text": [
      "<class 'pandas.core.frame.DataFrame'>\n",
      "RangeIndex: 1000 entries, 0 to 999\n",
      "Data columns (total 6 columns):\n",
      " #   Column                  Non-Null Count  Dtype \n",
      "---  ------                  --------------  ----- \n",
      " 0   gender                  1000 non-null   object\n",
      " 1   race/ethnicity          1000 non-null   object\n",
      " 2   parent_education_level  1000 non-null   object\n",
      " 3   lunch                   1000 non-null   object\n",
      " 4   test_prep_course        1000 non-null   object\n",
      " 5   math                    1000 non-null   int64 \n",
      "dtypes: int64(1), object(5)\n",
      "memory usage: 47.0+ KB\n"
     ]
    }
   ],
   "source": [
    "ds.info()"
   ]
  },
  {
   "cell_type": "code",
   "execution_count": 111,
   "id": "26e5a175",
   "metadata": {},
   "outputs": [
    {
     "data": {
      "text/plain": [
       "female    518\n",
       "male      482\n",
       "Name: gender, dtype: int64"
      ]
     },
     "execution_count": 111,
     "metadata": {},
     "output_type": "execute_result"
    }
   ],
   "source": [
    "ds.gender.value_counts()"
   ]
  },
  {
   "cell_type": "code",
   "execution_count": 112,
   "id": "157bf4f6",
   "metadata": {},
   "outputs": [
    {
     "data": {
      "text/plain": [
       "group C    319\n",
       "group D    262\n",
       "group B    190\n",
       "group E    140\n",
       "group A     89\n",
       "Name: race/ethnicity, dtype: int64"
      ]
     },
     "execution_count": 112,
     "metadata": {},
     "output_type": "execute_result"
    }
   ],
   "source": [
    "ds['race/ethnicity'].value_counts()"
   ]
  },
  {
   "cell_type": "code",
   "execution_count": 113,
   "id": "7d685766",
   "metadata": {},
   "outputs": [
    {
     "data": {
      "text/plain": [
       "some college          226\n",
       "associate's degree    222\n",
       "high school           196\n",
       "some high school      179\n",
       "bachelor's degree     118\n",
       "master's degree        59\n",
       "Name: parent_education_level, dtype: int64"
      ]
     },
     "execution_count": 113,
     "metadata": {},
     "output_type": "execute_result"
    }
   ],
   "source": [
    "ds.parent_education_level.value_counts()"
   ]
  },
  {
   "cell_type": "code",
   "execution_count": 114,
   "id": "2658dcab",
   "metadata": {},
   "outputs": [
    {
     "data": {
      "text/plain": [
       "standard        645\n",
       "free/reduced    355\n",
       "Name: lunch, dtype: int64"
      ]
     },
     "execution_count": 114,
     "metadata": {},
     "output_type": "execute_result"
    }
   ],
   "source": [
    "ds.lunch.value_counts()"
   ]
  },
  {
   "cell_type": "code",
   "execution_count": 115,
   "id": "9701757b",
   "metadata": {},
   "outputs": [
    {
     "data": {
      "text/plain": [
       "none         642\n",
       "completed    358\n",
       "Name: test_prep_course, dtype: int64"
      ]
     },
     "execution_count": 115,
     "metadata": {},
     "output_type": "execute_result"
    }
   ],
   "source": [
    "ds.test_prep_course.value_counts()"
   ]
  },
  {
   "cell_type": "code",
   "execution_count": 116,
   "id": "028474d0",
   "metadata": {},
   "outputs": [
    {
     "data": {
      "text/plain": [
       "False"
      ]
     },
     "execution_count": 116,
     "metadata": {},
     "output_type": "execute_result"
    }
   ],
   "source": [
    "ds.math.isnull().any()"
   ]
  },
  {
   "cell_type": "code",
   "execution_count": 117,
   "id": "d1946ce9",
   "metadata": {},
   "outputs": [
    {
     "data": {
      "text/plain": [
       "array([ 72,  69,  90,  47,  76,  71,  88,  40,  64,  38,  58,  65,  78,\n",
       "        50,  18,  46,  54,  66,  44,  74,  73,  67,  70,  62,  63,  56,\n",
       "        97,  81,  75,  57,  55,  53,  59,  82,  77,  33,  52,   0,  79,\n",
       "        39,  45,  60,  61,  41,  49,  30,  80,  42,  27,  43,  68,  85,\n",
       "        98,  87,  51,  99,  84,  91,  83,  89,  22, 100,  96,  94,  48,\n",
       "        35,  34,  86,  92,  37,  28,  24,  26,  95,  36,  29,  32,  93,\n",
       "        19,  23,   8], dtype=int64)"
      ]
     },
     "execution_count": 117,
     "metadata": {},
     "output_type": "execute_result"
    }
   ],
   "source": [
    "ds.math.unique()"
   ]
  },
  {
   "cell_type": "raw",
   "id": "84b323e0",
   "metadata": {},
   "source": [
    "This dataset has six columns and 1000 rows.\n",
    "This dataset do not contain any null value or incorrect value."
   ]
  },
  {
   "cell_type": "markdown",
   "id": "8599b46d",
   "metadata": {},
   "source": [
    "# Changing the datatype of columns"
   ]
  },
  {
   "cell_type": "code",
   "execution_count": 118,
   "id": "f61f8735",
   "metadata": {},
   "outputs": [
    {
     "name": "stdout",
     "output_type": "stream",
     "text": [
      "<class 'pandas.core.frame.DataFrame'>\n",
      "RangeIndex: 1000 entries, 0 to 999\n",
      "Data columns (total 6 columns):\n",
      " #   Column                  Non-Null Count  Dtype \n",
      "---  ------                  --------------  ----- \n",
      " 0   gender                  1000 non-null   object\n",
      " 1   race/ethnicity          1000 non-null   object\n",
      " 2   parent_education_level  1000 non-null   object\n",
      " 3   lunch                   1000 non-null   object\n",
      " 4   test_prep_course        1000 non-null   object\n",
      " 5   math                    1000 non-null   int64 \n",
      "dtypes: int64(1), object(5)\n",
      "memory usage: 47.0+ KB\n"
     ]
    }
   ],
   "source": [
    "ds.info()"
   ]
  },
  {
   "cell_type": "code",
   "execution_count": 119,
   "id": "3d912a7b",
   "metadata": {},
   "outputs": [],
   "source": [
    "ds['gender']=ds['gender'].astype('category')\n",
    "ds['race/ethnicity']=ds['race/ethnicity'].astype('category')\n",
    "ds['parent_education_level']=ds['parent_education_level'].astype('category')\n",
    "ds['lunch']=ds['lunch'].astype('category')\n",
    "ds['test_prep_course']=ds['test_prep_course'].astype('category')"
   ]
  },
  {
   "cell_type": "code",
   "execution_count": 120,
   "id": "87fa3a8b",
   "metadata": {},
   "outputs": [
    {
     "name": "stdout",
     "output_type": "stream",
     "text": [
      "<class 'pandas.core.frame.DataFrame'>\n",
      "RangeIndex: 1000 entries, 0 to 999\n",
      "Data columns (total 6 columns):\n",
      " #   Column                  Non-Null Count  Dtype   \n",
      "---  ------                  --------------  -----   \n",
      " 0   gender                  1000 non-null   category\n",
      " 1   race/ethnicity          1000 non-null   category\n",
      " 2   parent_education_level  1000 non-null   category\n",
      " 3   lunch                   1000 non-null   category\n",
      " 4   test_prep_course        1000 non-null   category\n",
      " 5   math                    1000 non-null   int64   \n",
      "dtypes: category(5), int64(1)\n",
      "memory usage: 13.6 KB\n"
     ]
    }
   ],
   "source": [
    "ds.info()"
   ]
  },
  {
   "cell_type": "markdown",
   "id": "7f0a0e27",
   "metadata": {},
   "source": [
    "# Visulizing and gaining insights from it"
   ]
  },
  {
   "cell_type": "code",
   "execution_count": 121,
   "id": "b331ce6e",
   "metadata": {},
   "outputs": [
    {
     "data": {
      "text/html": [
       "<div>\n",
       "<style scoped>\n",
       "    .dataframe tbody tr th:only-of-type {\n",
       "        vertical-align: middle;\n",
       "    }\n",
       "\n",
       "    .dataframe tbody tr th {\n",
       "        vertical-align: top;\n",
       "    }\n",
       "\n",
       "    .dataframe thead th {\n",
       "        text-align: right;\n",
       "    }\n",
       "</style>\n",
       "<table border=\"1\" class=\"dataframe\">\n",
       "  <thead>\n",
       "    <tr style=\"text-align: right;\">\n",
       "      <th></th>\n",
       "      <th>gender</th>\n",
       "      <th>race/ethnicity</th>\n",
       "      <th>parent_education_level</th>\n",
       "      <th>lunch</th>\n",
       "      <th>test_prep_course</th>\n",
       "      <th>math</th>\n",
       "    </tr>\n",
       "  </thead>\n",
       "  <tbody>\n",
       "    <tr>\n",
       "      <th>0</th>\n",
       "      <td>female</td>\n",
       "      <td>group B</td>\n",
       "      <td>bachelor's degree</td>\n",
       "      <td>standard</td>\n",
       "      <td>none</td>\n",
       "      <td>72</td>\n",
       "    </tr>\n",
       "    <tr>\n",
       "      <th>1</th>\n",
       "      <td>female</td>\n",
       "      <td>group C</td>\n",
       "      <td>some college</td>\n",
       "      <td>standard</td>\n",
       "      <td>completed</td>\n",
       "      <td>69</td>\n",
       "    </tr>\n",
       "    <tr>\n",
       "      <th>2</th>\n",
       "      <td>female</td>\n",
       "      <td>group B</td>\n",
       "      <td>master's degree</td>\n",
       "      <td>standard</td>\n",
       "      <td>none</td>\n",
       "      <td>90</td>\n",
       "    </tr>\n",
       "    <tr>\n",
       "      <th>3</th>\n",
       "      <td>male</td>\n",
       "      <td>group A</td>\n",
       "      <td>associate's degree</td>\n",
       "      <td>free/reduced</td>\n",
       "      <td>none</td>\n",
       "      <td>47</td>\n",
       "    </tr>\n",
       "    <tr>\n",
       "      <th>4</th>\n",
       "      <td>male</td>\n",
       "      <td>group C</td>\n",
       "      <td>some college</td>\n",
       "      <td>standard</td>\n",
       "      <td>none</td>\n",
       "      <td>76</td>\n",
       "    </tr>\n",
       "    <tr>\n",
       "      <th>...</th>\n",
       "      <td>...</td>\n",
       "      <td>...</td>\n",
       "      <td>...</td>\n",
       "      <td>...</td>\n",
       "      <td>...</td>\n",
       "      <td>...</td>\n",
       "    </tr>\n",
       "    <tr>\n",
       "      <th>995</th>\n",
       "      <td>female</td>\n",
       "      <td>group E</td>\n",
       "      <td>master's degree</td>\n",
       "      <td>standard</td>\n",
       "      <td>completed</td>\n",
       "      <td>88</td>\n",
       "    </tr>\n",
       "    <tr>\n",
       "      <th>996</th>\n",
       "      <td>male</td>\n",
       "      <td>group C</td>\n",
       "      <td>high school</td>\n",
       "      <td>free/reduced</td>\n",
       "      <td>none</td>\n",
       "      <td>62</td>\n",
       "    </tr>\n",
       "    <tr>\n",
       "      <th>997</th>\n",
       "      <td>female</td>\n",
       "      <td>group C</td>\n",
       "      <td>high school</td>\n",
       "      <td>free/reduced</td>\n",
       "      <td>completed</td>\n",
       "      <td>59</td>\n",
       "    </tr>\n",
       "    <tr>\n",
       "      <th>998</th>\n",
       "      <td>female</td>\n",
       "      <td>group D</td>\n",
       "      <td>some college</td>\n",
       "      <td>standard</td>\n",
       "      <td>completed</td>\n",
       "      <td>68</td>\n",
       "    </tr>\n",
       "    <tr>\n",
       "      <th>999</th>\n",
       "      <td>female</td>\n",
       "      <td>group D</td>\n",
       "      <td>some college</td>\n",
       "      <td>free/reduced</td>\n",
       "      <td>none</td>\n",
       "      <td>77</td>\n",
       "    </tr>\n",
       "  </tbody>\n",
       "</table>\n",
       "<p>1000 rows × 6 columns</p>\n",
       "</div>"
      ],
      "text/plain": [
       "     gender race/ethnicity parent_education_level         lunch  \\\n",
       "0    female        group B      bachelor's degree      standard   \n",
       "1    female        group C           some college      standard   \n",
       "2    female        group B        master's degree      standard   \n",
       "3      male        group A     associate's degree  free/reduced   \n",
       "4      male        group C           some college      standard   \n",
       "..      ...            ...                    ...           ...   \n",
       "995  female        group E        master's degree      standard   \n",
       "996    male        group C            high school  free/reduced   \n",
       "997  female        group C            high school  free/reduced   \n",
       "998  female        group D           some college      standard   \n",
       "999  female        group D           some college  free/reduced   \n",
       "\n",
       "    test_prep_course  math  \n",
       "0               none    72  \n",
       "1          completed    69  \n",
       "2               none    90  \n",
       "3               none    47  \n",
       "4               none    76  \n",
       "..               ...   ...  \n",
       "995        completed    88  \n",
       "996             none    62  \n",
       "997        completed    59  \n",
       "998        completed    68  \n",
       "999             none    77  \n",
       "\n",
       "[1000 rows x 6 columns]"
      ]
     },
     "execution_count": 121,
     "metadata": {},
     "output_type": "execute_result"
    }
   ],
   "source": [
    "ds"
   ]
  },
  {
   "cell_type": "code",
   "execution_count": 122,
   "id": "67aae26b",
   "metadata": {},
   "outputs": [
    {
     "data": {
      "text/plain": [
       "female    518\n",
       "male      482\n",
       "Name: gender, dtype: int64"
      ]
     },
     "execution_count": 122,
     "metadata": {},
     "output_type": "execute_result"
    },
    {
     "data": {
      "image/png": "[encoded data removed]",
      "text/plain": [
       "<Figure size 432x288 with 1 Axes>"
      ]
     },
     "metadata": {
      "needs_background": "light"
     },
     "output_type": "display_data"
    }
   ],
   "source": [
    "a=ds.gender.value_counts()\n",
    "a.plot(kind='bar')\n",
    "a"
   ]
  },
  {
   "cell_type": "code",
   "execution_count": 133,
   "id": "7f61cd82",
   "metadata": {},
   "outputs": [
    {
     "data": {
      "text/plain": [
       "group C    319\n",
       "group D    262\n",
       "group B    190\n",
       "group E    140\n",
       "group A     89\n",
       "Name: race/ethnicity, dtype: int64"
      ]
     },
     "execution_count": 133,
     "metadata": {},
     "output_type": "execute_result"
    },
    {
     "data": {
      "image/png": "[encoded data removed]",
      "text/plain": [
       "<Figure size 432x288 with 1 Axes>"
      ]
     },
     "metadata": {
      "needs_background": "light"
     },
     "output_type": "display_data"
    }
   ],
   "source": [
    "a=ds['race/ethnicity'].value_counts()\n",
    "a.plot(marker='*',color=\"brown\")\n",
    "a"
   ]
  },
  {
   "cell_type": "code",
   "execution_count": 124,
   "id": "8a15b5e0",
   "metadata": {},
   "outputs": [
    {
     "data": {
      "text/plain": [
       "some college          226\n",
       "associate's degree    222\n",
       "high school           196\n",
       "some high school      179\n",
       "bachelor's degree     118\n",
       "master's degree        59\n",
       "Name: parent_education_level, dtype: int64"
      ]
     },
     "execution_count": 124,
     "metadata": {},
     "output_type": "execute_result"
    },
    {
     "data": {
      "image/png": "[encoded data removed]",
      "text/plain": [
       "<Figure size 432x288 with 1 Axes>"
      ]
     },
     "metadata": {
      "needs_background": "light"
     },
     "output_type": "display_data"
    }
   ],
   "source": [
    "a=ds.parent_education_level.value_counts()\n",
    "a.plot(kind='bar')\n",
    "a"
   ]
  },
  {
   "cell_type": "code",
   "execution_count": 125,
   "id": "8edb5787",
   "metadata": {},
   "outputs": [
    {
     "data": {
      "text/plain": [
       "standard        645\n",
       "free/reduced    355\n",
       "Name: lunch, dtype: int64"
      ]
     },
     "execution_count": 125,
     "metadata": {},
     "output_type": "execute_result"
    },
    {
     "data": {
      "image/png": "[encoded data removed]",
      "text/plain": [
       "<Figure size 432x288 with 1 Axes>"
      ]
     },
     "metadata": {
      "needs_background": "light"
     },
     "output_type": "display_data"
    }
   ],
   "source": [
    "a=ds.lunch.value_counts()\n",
    "a.plot(kind='bar')\n",
    "a"
   ]
  },
  {
   "cell_type": "code",
   "execution_count": 135,
   "id": "5186b92f",
   "metadata": {},
   "outputs": [
    {
     "data": {
      "text/plain": [
       "none         642\n",
       "completed    358\n",
       "Name: test_prep_course, dtype: int64"
      ]
     },
     "execution_count": 135,
     "metadata": {},
     "output_type": "execute_result"
    },
    {
     "data": {
      "image/png": "[encoded data removed]",
      "text/plain": [
       "<Figure size 432x288 with 1 Axes>"
      ]
     },
     "metadata": {
      "needs_background": "light"
     },
     "output_type": "display_data"
    }
   ],
   "source": [
    "a=ds.test_prep_course.value_counts()\n",
    "a.plot(kind='bar')\n",
    "a"
   ]
  },
  {
   "cell_type": "code",
   "execution_count": 136,
   "id": "4fd47221",
   "metadata": {},
   "outputs": [],
   "source": [
    "male_prep_comp=ds[(ds['gender']=='male')&(ds['test_prep_course']=='completed')]\n",
    "a=len(male_prep_comp)\n",
    "female_prep_comp=ds[(ds['gender']=='female')&(ds['test_prep_course']=='completed')]\n",
    "b=len(female_prep_comp)\n",
    "x=['Male','Female']\n",
    "y=[a,b]"
   ]
  },
  {
   "cell_type": "code",
   "execution_count": 137,
   "id": "29f90570",
   "metadata": {},
   "outputs": [
    {
     "name": "stdout",
     "output_type": "stream",
     "text": [
      "Male= 174 Female= 184\n"
     ]
    },
    {
     "data": {
      "image/png": "[encoded data removed]",
      "text/plain": [
       "<Figure size 432x288 with 1 Axes>"
      ]
     },
     "metadata": {
      "needs_background": "light"
     },
     "output_type": "display_data"
    }
   ],
   "source": [
    "plt.title('Course Completion of Male and Female')\n",
    "plt.xlabel('Gender')\n",
    "plt.ylabel('Number of preparation complete')\n",
    "plt.bar(x,y)\n",
    "print('Male=',a,'Female=',b)"
   ]
  },
  {
   "cell_type": "code",
   "execution_count": 138,
   "id": "9fffb34d",
   "metadata": {},
   "outputs": [
    {
     "data": {
      "text/plain": [
       "race/ethnicity\n",
       "group A     89\n",
       "group B    190\n",
       "group C    319\n",
       "group D    262\n",
       "group E    140\n",
       "Name: lunch, dtype: int64"
      ]
     },
     "execution_count": 138,
     "metadata": {},
     "output_type": "execute_result"
    }
   ],
   "source": [
    "a=ds.groupby('race/ethnicity')['lunch'].count()\n",
    "a"
   ]
  },
  {
   "cell_type": "code",
   "execution_count": 139,
   "id": "cb34aad5",
   "metadata": {},
   "outputs": [],
   "source": [
    "male_lunch=ds[(ds['gender']=='male')&(ds['lunch']=='standard')]\n",
    "a=len(male_lunch)\n",
    "female_lunch=ds[(ds['gender']=='female')&(ds['lunch']=='standard')]\n",
    "b=len(female_lunch)\n",
    "x=['male_lunch_standard','female_lunch_standard']\n",
    "y=[a,b]"
   ]
  },
  {
   "cell_type": "code",
   "execution_count": 141,
   "id": "f544d7d0",
   "metadata": {
    "scrolled": false
   },
   "outputs": [
    {
     "name": "stdout",
     "output_type": "stream",
     "text": [
      "male_lunch_standard= 316 female_lunch_standard 329\n"
     ]
    },
    {
     "data": {
      "text/plain": [
       "<BarContainer object of 2 artists>"
      ]
     },
     "execution_count": 141,
     "metadata": {},
     "output_type": "execute_result"
    },
    {
     "data": {
      "image/png": "[encoded data removed]",
      "text/plain": [
       "<Figure size 432x288 with 1 Axes>"
      ]
     },
     "metadata": {
      "needs_background": "light"
     },
     "output_type": "display_data"
    }
   ],
   "source": [
    "plt.title('Total number of gender lunch is Standard')\n",
    "plt.xlabel('Gender')\n",
    "plt.ylabel('Total Number')\n",
    "print('male_lunch_standard=',a,'female_lunch_standard',b)\n",
    "plt.bar(x,y)"
   ]
  },
  {
   "cell_type": "markdown",
   "id": "63c60d30",
   "metadata": {},
   "source": [
    "# Analysis of Marks"
   ]
  },
  {
   "cell_type": "code",
   "execution_count": 142,
   "id": "2f9fe86f",
   "metadata": {},
   "outputs": [
    {
     "data": {
      "text/html": [
       "<div>\n",
       "<style scoped>\n",
       "    .dataframe tbody tr th:only-of-type {\n",
       "        vertical-align: middle;\n",
       "    }\n",
       "\n",
       "    .dataframe tbody tr th {\n",
       "        vertical-align: top;\n",
       "    }\n",
       "\n",
       "    .dataframe thead th {\n",
       "        text-align: right;\n",
       "    }\n",
       "</style>\n",
       "<table border=\"1\" class=\"dataframe\">\n",
       "  <thead>\n",
       "    <tr style=\"text-align: right;\">\n",
       "      <th></th>\n",
       "      <th>gender</th>\n",
       "      <th>race/ethnicity</th>\n",
       "      <th>parent_education_level</th>\n",
       "      <th>lunch</th>\n",
       "      <th>test_prep_course</th>\n",
       "      <th>math</th>\n",
       "    </tr>\n",
       "  </thead>\n",
       "  <tbody>\n",
       "    <tr>\n",
       "      <th>0</th>\n",
       "      <td>female</td>\n",
       "      <td>group B</td>\n",
       "      <td>bachelor's degree</td>\n",
       "      <td>standard</td>\n",
       "      <td>none</td>\n",
       "      <td>72</td>\n",
       "    </tr>\n",
       "    <tr>\n",
       "      <th>1</th>\n",
       "      <td>female</td>\n",
       "      <td>group C</td>\n",
       "      <td>some college</td>\n",
       "      <td>standard</td>\n",
       "      <td>completed</td>\n",
       "      <td>69</td>\n",
       "    </tr>\n",
       "    <tr>\n",
       "      <th>2</th>\n",
       "      <td>female</td>\n",
       "      <td>group B</td>\n",
       "      <td>master's degree</td>\n",
       "      <td>standard</td>\n",
       "      <td>none</td>\n",
       "      <td>90</td>\n",
       "    </tr>\n",
       "    <tr>\n",
       "      <th>3</th>\n",
       "      <td>male</td>\n",
       "      <td>group A</td>\n",
       "      <td>associate's degree</td>\n",
       "      <td>free/reduced</td>\n",
       "      <td>none</td>\n",
       "      <td>47</td>\n",
       "    </tr>\n",
       "    <tr>\n",
       "      <th>4</th>\n",
       "      <td>male</td>\n",
       "      <td>group C</td>\n",
       "      <td>some college</td>\n",
       "      <td>standard</td>\n",
       "      <td>none</td>\n",
       "      <td>76</td>\n",
       "    </tr>\n",
       "    <tr>\n",
       "      <th>...</th>\n",
       "      <td>...</td>\n",
       "      <td>...</td>\n",
       "      <td>...</td>\n",
       "      <td>...</td>\n",
       "      <td>...</td>\n",
       "      <td>...</td>\n",
       "    </tr>\n",
       "    <tr>\n",
       "      <th>995</th>\n",
       "      <td>female</td>\n",
       "      <td>group E</td>\n",
       "      <td>master's degree</td>\n",
       "      <td>standard</td>\n",
       "      <td>completed</td>\n",
       "      <td>88</td>\n",
       "    </tr>\n",
       "    <tr>\n",
       "      <th>996</th>\n",
       "      <td>male</td>\n",
       "      <td>group C</td>\n",
       "      <td>high school</td>\n",
       "      <td>free/reduced</td>\n",
       "      <td>none</td>\n",
       "      <td>62</td>\n",
       "    </tr>\n",
       "    <tr>\n",
       "      <th>997</th>\n",
       "      <td>female</td>\n",
       "      <td>group C</td>\n",
       "      <td>high school</td>\n",
       "      <td>free/reduced</td>\n",
       "      <td>completed</td>\n",
       "      <td>59</td>\n",
       "    </tr>\n",
       "    <tr>\n",
       "      <th>998</th>\n",
       "      <td>female</td>\n",
       "      <td>group D</td>\n",
       "      <td>some college</td>\n",
       "      <td>standard</td>\n",
       "      <td>completed</td>\n",
       "      <td>68</td>\n",
       "    </tr>\n",
       "    <tr>\n",
       "      <th>999</th>\n",
       "      <td>female</td>\n",
       "      <td>group D</td>\n",
       "      <td>some college</td>\n",
       "      <td>free/reduced</td>\n",
       "      <td>none</td>\n",
       "      <td>77</td>\n",
       "    </tr>\n",
       "  </tbody>\n",
       "</table>\n",
       "<p>1000 rows × 6 columns</p>\n",
       "</div>"
      ],
      "text/plain": [
       "     gender race/ethnicity parent_education_level         lunch  \\\n",
       "0    female        group B      bachelor's degree      standard   \n",
       "1    female        group C           some college      standard   \n",
       "2    female        group B        master's degree      standard   \n",
       "3      male        group A     associate's degree  free/reduced   \n",
       "4      male        group C           some college      standard   \n",
       "..      ...            ...                    ...           ...   \n",
       "995  female        group E        master's degree      standard   \n",
       "996    male        group C            high school  free/reduced   \n",
       "997  female        group C            high school  free/reduced   \n",
       "998  female        group D           some college      standard   \n",
       "999  female        group D           some college  free/reduced   \n",
       "\n",
       "    test_prep_course  math  \n",
       "0               none    72  \n",
       "1          completed    69  \n",
       "2               none    90  \n",
       "3               none    47  \n",
       "4               none    76  \n",
       "..               ...   ...  \n",
       "995        completed    88  \n",
       "996             none    62  \n",
       "997        completed    59  \n",
       "998        completed    68  \n",
       "999             none    77  \n",
       "\n",
       "[1000 rows x 6 columns]"
      ]
     },
     "execution_count": 142,
     "metadata": {},
     "output_type": "execute_result"
    }
   ],
   "source": [
    "ds"
   ]
  },
  {
   "cell_type": "code",
   "execution_count": 160,
   "id": "e2eecece",
   "metadata": {},
   "outputs": [
    {
     "data": {
      "text/plain": [
       "<AxesSubplot:title={'center':'Distribution of Math Marks'}, ylabel='Frequency'>"
      ]
     },
     "execution_count": 160,
     "metadata": {},
     "output_type": "execute_result"
    },
    {
     "data": {
      "image/png": "[encoded data removed]",
      "text/plain": [
       "<Figure size 432x288 with 1 Axes>"
      ]
     },
     "metadata": {
      "needs_background": "light"
     },
     "output_type": "display_data"
    }
   ],
   "source": [
    "plt.title('Distribution of Math Marks')\n",
    "ds.math.plot(kind='hist',color=\"green\",bins=15)"
   ]
  },
  {
   "cell_type": "code",
   "execution_count": 180,
   "id": "4dab2c2c",
   "metadata": {},
   "outputs": [],
   "source": [
    "t1=len(ds[(ds['math']>=0)&(ds['math']<=10)])\n",
    "t2=len(ds[(ds['math']>=11)&(ds['math']<=20)])\n",
    "t3=len(ds[(ds['math']>=21)&(ds['math']<=30)])\n",
    "t4=len(ds[(ds['math']>=31)&(ds['math']<=40)])\n",
    "t5=len(ds[(ds['math']>=41)&(ds['math']<=50)])\n",
    "t6=len(ds[(ds['math']>=51)&(ds['math']<=60)])\n",
    "t7=len(ds[(ds['math']>=61)&(ds['math']<=70)])\n",
    "t8=len(ds[(ds['math']>=71)&(ds['math']<=80)])\n",
    "t9=len(ds[(ds['math']>=81)&(ds['math']<=90)])\n",
    "t10=len(ds[(ds['math']>=91)&(ds['math']<=100)])"
   ]
  },
  {
   "cell_type": "code",
   "execution_count": 187,
   "id": "6eb47808",
   "metadata": {},
   "outputs": [
    {
     "name": "stdout",
     "output_type": "stream",
     "text": [
      "0-10: 2 \n",
      "11-20: 2 \n",
      "21-30: 12 \n",
      "31-40: 34 \n",
      "41-50: 100 \n",
      "51-60: 189 \n",
      "61-70: 270 \n",
      "71-80: 215 \n",
      "81-90: 126 \n",
      "91-100: 50\n"
     ]
    },
    {
     "data": {
      "text/plain": [
       "<BarContainer object of 10 artists>"
      ]
     },
     "execution_count": 187,
     "metadata": {},
     "output_type": "execute_result"
    },
    {
     "data": {
      "image/png": "[encoded data removed]",
      "text/plain": [
       "<Figure size 432x288 with 1 Axes>"
      ]
     },
     "metadata": {
      "needs_background": "light"
     },
     "output_type": "display_data"
    }
   ],
   "source": [
    "x=['0-10','11-20','21-30','31-40','41-50','51-60','61-70','71-80','81-90','91-100']\n",
    "y=[t1,t2,t3,t4,t5,t6,t7,t8,t9,t10]\n",
    "print('0-10:',t1,'\\n11-20:',t2,'\\n21-30:',t3,'\\n31-40:',t4,'\\n41-50:',t5,'\\n51-60:',t6,'\\n61-70:',t7,'\\n71-80:',t8,'\\n81-90:',t9,'\\n91-100:',t10)\n",
    "plt.title('Marks distribution by number of students')\n",
    "plt.xlabel('Marks')\n",
    "plt.ylabel('Students')\n",
    "plt.bar(x,y)"
   ]
  },
  {
   "cell_type": "code",
   "execution_count": 197,
   "id": "50cacf8e",
   "metadata": {},
   "outputs": [
    {
     "name": "stdout",
     "output_type": "stream",
     "text": [
      "race/ethnicity\n",
      "group A    61.629213\n",
      "group B    63.452632\n",
      "group C    64.463950\n",
      "group D    67.362595\n",
      "group E    73.821429\n",
      "Name: math, dtype: float64\n"
     ]
    },
    {
     "data": {
      "text/plain": [
       "<AxesSubplot:title={'center':'Mean of math mark by Group'}, xlabel='race/ethnicity', ylabel='Mean of Math Marks'>"
      ]
     },
     "execution_count": 197,
     "metadata": {},
     "output_type": "execute_result"
    },
    {
     "data": {
      "image/png": "[encoded data removed]",
      "text/plain": [
       "<Figure size 432x288 with 1 Axes>"
      ]
     },
     "metadata": {
      "needs_background": "light"
     },
     "output_type": "display_data"
    }
   ],
   "source": [
    "a=ds.groupby('race/ethnicity')['math'].mean()\n",
    "print(a)\n",
    "plt.ylabel('Mean of Math Marks')\n",
    "plt.title('Mean of math mark by Group')\n",
    "a.plot(marker='o',color=\"yellow\")"
   ]
  },
  {
   "cell_type": "code",
   "execution_count": 202,
   "id": "bbd4a61e",
   "metadata": {
    "scrolled": true
   },
   "outputs": [
    {
     "name": "stdout",
     "output_type": "stream",
     "text": [
      "gender\n",
      "female    63.633205\n",
      "male      68.728216\n",
      "Name: math, dtype: float64\n"
     ]
    },
    {
     "data": {
      "text/plain": [
       "<AxesSubplot:title={'center':'Mean of math mark by Gender'}, xlabel='gender', ylabel='Mean of Math Marks'>"
      ]
     },
     "execution_count": 202,
     "metadata": {},
     "output_type": "execute_result"
    },
    {
     "data": {
      "image/png": "[encoded data removed]",
      "text/plain": [
       "<Figure size 432x288 with 1 Axes>"
      ]
     },
     "metadata": {
      "needs_background": "light"
     },
     "output_type": "display_data"
    }
   ],
   "source": [
    "a=ds.groupby('gender')['math'].mean()\n",
    "print(a)\n",
    "plt.ylabel('Mean of Math Marks')\n",
    "plt.title('Mean of math mark by Gender')\n",
    "a.plot(color=\"orange\",kind='bar')"
   ]
  },
  {
   "cell_type": "code",
   "execution_count": 212,
   "id": "9774c5d9",
   "metadata": {},
   "outputs": [
    {
     "name": "stdout",
     "output_type": "stream",
     "text": [
      "parent_education_level\n",
      "associate's degree    67.882883\n",
      "bachelor's degree     69.389831\n",
      "high school           62.137755\n",
      "master's degree       69.745763\n",
      "some college          67.128319\n",
      "some high school      63.497207\n",
      "Name: math, dtype: float64\n"
     ]
    },
    {
     "data": {
      "text/plain": [
       "<AxesSubplot:title={'center':'Mean marks by parents education'}, xlabel='parent_education_level', ylabel='Mean Marks'>"
      ]
     },
     "execution_count": 212,
     "metadata": {},
     "output_type": "execute_result"
    },
    {
     "data": {
      "image/png": "[encoded data removed]",
      "text/plain": [
       "<Figure size 432x288 with 1 Axes>"
      ]
     },
     "metadata": {
      "needs_background": "light"
     },
     "output_type": "display_data"
    }
   ],
   "source": [
    "a=ds.groupby('parent_education_level')['math'].mean()\n",
    "print(a)\n",
    "plt.title('Mean marks by parents education')\n",
    "plt.ylabel('Mean Marks')\n",
    "a.plot(kind='bar')"
   ]
  },
  {
   "cell_type": "code",
   "execution_count": 213,
   "id": "0714f8a6",
   "metadata": {},
   "outputs": [
    {
     "name": "stdout",
     "output_type": "stream",
     "text": [
      "test_prep_course\n",
      "completed    69.695531\n",
      "none         64.077882\n",
      "Name: math, dtype: float64\n"
     ]
    },
    {
     "data": {
      "text/plain": [
       "<AxesSubplot:title={'center':'Mean marks by test preparation'}, xlabel='test_prep_course', ylabel='Mean Marks'>"
      ]
     },
     "execution_count": 213,
     "metadata": {},
     "output_type": "execute_result"
    },
    {
     "data": {
      "image/png": "[encoded data removed]",
      "text/plain": [
       "<Figure size 432x288 with 1 Axes>"
      ]
     },
     "metadata": {
      "needs_background": "light"
     },
     "output_type": "display_data"
    }
   ],
   "source": [
    "a=ds.groupby('test_prep_course')['math'].mean()\n",
    "print(a)\n",
    "plt.title('Mean marks by test preparation')\n",
    "plt.ylabel('Mean Marks')\n",
    "a.plot(kind='bar')"
   ]
  },
  {
   "cell_type": "code",
   "execution_count": 214,
   "id": "2c379c9b",
   "metadata": {},
   "outputs": [
    {
     "name": "stdout",
     "output_type": "stream",
     "text": [
      "lunch\n",
      "free/reduced    58.921127\n",
      "standard        70.034109\n",
      "Name: math, dtype: float64\n"
     ]
    },
    {
     "data": {
      "text/plain": [
       "<AxesSubplot:title={'center':'Mean marks by test preparation'}, xlabel='lunch', ylabel='Mean Marks'>"
      ]
     },
     "execution_count": 214,
     "metadata": {},
     "output_type": "execute_result"
    },
    {
     "data": {
      "image/png": "[encoded data removed]",
      "text/plain": [
       "<Figure size 432x288 with 1 Axes>"
      ]
     },
     "metadata": {
      "needs_background": "light"
     },
     "output_type": "display_data"
    }
   ],
   "source": [
    "a=ds.groupby('lunch')['math'].mean()\n",
    "print(a)\n",
    "plt.title('Mean marks by test preparation')\n",
    "plt.ylabel('Mean Marks')\n",
    "a.plot(kind='bar')"
   ]
  },
  {
   "cell_type": "markdown",
   "id": "edb219d7",
   "metadata": {},
   "source": [
    "# Insights from dataset"
   ]
  },
  {
   "cell_type": "raw",
   "id": "dde8b92e",
   "metadata": {},
   "source": [
    "1)There are total 482 male and 518 female.Out of which 174 male had complete preparation and 184 female had complete prepation so we can say that 36.09% male had complete preparation and 35.52% female had completed preparation.\n",
    "\n",
    "The population is male is less than female but still in terms of percentage we can conclude that total number of male preparation(in terms of percentage) is higher than female.\n",
    "\n",
    "2)Out of total 482 males and 518 females.316 male lunch are standard and 329 female lunch are standard.\n",
    "\n",
    "65.56% of male are getting standard lunch and 63.51% of female are getting standard lunch.\n",
    "\n",
    "3)Total percentage of Parents education level:\n",
    "\tsome college:22.6%\n",
    "\tassociate's degree:22.2%\n",
    "\thigh school:19.6%\n",
    "\tsome high school:17.9%\n",
    "\tbachelor's degree:11.8%\n",
    "\tmaster's degree:5.9%\n",
    "\n",
    "4) Total percentage of students group:\n",
    "\tGroup A:8.9%\n",
    "\tGroup B:19%\n",
    "\tGroup C:31.9%\n",
    "\tGroup D:26.2%\n",
    "\tGroup E:14%\n",
    "\n",
    "5)Number of marks     Number of Students\n",
    "     0-10: \t\t\t    2  \n",
    "\t11-20:\t\t\t\t2 \n",
    "\t21-30: \t\t\t\t12 \n",
    "\t31-40: \t\t\t\t34 \n",
    "\t41-50: \t\t\t\t100 \n",
    "\t51-60: \t\t\t\t189 \n",
    "\t61-70: \t\t\t\t270 \n",
    "\t71-80: \t\t\t\t215 \n",
    "\t81-90: \t\t\t\t126 \n",
    "\t91-100: \t\t\t50\n",
    "\n",
    "6)Mean of marks by race/ethnicity\n",
    "\n",
    "\tGroup      Mean Marks\n",
    "    group A    61.629213\n",
    "\tgroup B    63.452632\n",
    "\tgroup C    64.463950\n",
    "\tgroup D    67.362595\n",
    "\tgroup E    73.821429\n",
    "\n",
    "7)Average marks of male is 68 and average marks of female is 63.\n",
    "\n",
    "8)Mean marks by parent's education\n",
    "\n",
    "\tEducation\t      Mean Marks\n",
    "\tassociate's degree    67.882883\n",
    "\tbachelor's degree     69.389831\n",
    "\thigh school           62.137755\n",
    "\tmaster's degree       69.745763\n",
    "\tsome college          67.128319\n",
    "\tsome high school      63.497207\n",
    "\n",
    "we can conclude that the students whose parents had done master's are getting more marks and parents whos had done 'high school' as education are getting lowest marks.\n",
    "\n",
    "9)Those student who had done preparation has average marks of 69 and who do not completed preparation has average marks of 64.\n",
    "\n",
    "10)The students who are getting standard lunch are getting marks average as 70 as compared to free/reduced lunch getting average marks of 58.\n",
    "\n",
    "The students who are taking lunch are getting more 20.68% marks compared to free/reduced lunch students.\n",
    "\n",
    "10) MY CONLUSION:\n",
    "According to dataset,\n",
    "In order to get good marks the student need to be male.\n",
    "Parents need education level as master's.\n",
    "The student need to be in Group-E.\n",
    "The lunch type must be Standard\n",
    "The student need to do preparation for study.\n",
    "\n",
    "\n",
    "By considering the above points the student can get the highest marks.\n",
    "You can see below cell for information of students getting full marks."
   ]
  },
  {
   "cell_type": "code",
   "execution_count": 218,
   "id": "8c78c79b",
   "metadata": {},
   "outputs": [
    {
     "data": {
      "text/html": [
       "<div>\n",
       "<style scoped>\n",
       "    .dataframe tbody tr th:only-of-type {\n",
       "        vertical-align: middle;\n",
       "    }\n",
       "\n",
       "    .dataframe tbody tr th {\n",
       "        vertical-align: top;\n",
       "    }\n",
       "\n",
       "    .dataframe thead th {\n",
       "        text-align: right;\n",
       "    }\n",
       "</style>\n",
       "<table border=\"1\" class=\"dataframe\">\n",
       "  <thead>\n",
       "    <tr style=\"text-align: right;\">\n",
       "      <th></th>\n",
       "      <th>gender</th>\n",
       "      <th>race/ethnicity</th>\n",
       "      <th>parent_education_level</th>\n",
       "      <th>lunch</th>\n",
       "      <th>test_prep_course</th>\n",
       "      <th>math</th>\n",
       "    </tr>\n",
       "  </thead>\n",
       "  <tbody>\n",
       "    <tr>\n",
       "      <th>149</th>\n",
       "      <td>male</td>\n",
       "      <td>group E</td>\n",
       "      <td>associate's degree</td>\n",
       "      <td>free/reduced</td>\n",
       "      <td>completed</td>\n",
       "      <td>100</td>\n",
       "    </tr>\n",
       "    <tr>\n",
       "      <th>451</th>\n",
       "      <td>female</td>\n",
       "      <td>group E</td>\n",
       "      <td>some college</td>\n",
       "      <td>standard</td>\n",
       "      <td>none</td>\n",
       "      <td>100</td>\n",
       "    </tr>\n",
       "    <tr>\n",
       "      <th>458</th>\n",
       "      <td>female</td>\n",
       "      <td>group E</td>\n",
       "      <td>bachelor's degree</td>\n",
       "      <td>standard</td>\n",
       "      <td>none</td>\n",
       "      <td>100</td>\n",
       "    </tr>\n",
       "    <tr>\n",
       "      <th>623</th>\n",
       "      <td>male</td>\n",
       "      <td>group A</td>\n",
       "      <td>some college</td>\n",
       "      <td>standard</td>\n",
       "      <td>completed</td>\n",
       "      <td>100</td>\n",
       "    </tr>\n",
       "    <tr>\n",
       "      <th>625</th>\n",
       "      <td>male</td>\n",
       "      <td>group D</td>\n",
       "      <td>some college</td>\n",
       "      <td>standard</td>\n",
       "      <td>completed</td>\n",
       "      <td>100</td>\n",
       "    </tr>\n",
       "    <tr>\n",
       "      <th>916</th>\n",
       "      <td>male</td>\n",
       "      <td>group E</td>\n",
       "      <td>bachelor's degree</td>\n",
       "      <td>standard</td>\n",
       "      <td>completed</td>\n",
       "      <td>100</td>\n",
       "    </tr>\n",
       "    <tr>\n",
       "      <th>962</th>\n",
       "      <td>female</td>\n",
       "      <td>group E</td>\n",
       "      <td>associate's degree</td>\n",
       "      <td>standard</td>\n",
       "      <td>none</td>\n",
       "      <td>100</td>\n",
       "    </tr>\n",
       "  </tbody>\n",
       "</table>\n",
       "</div>"
      ],
      "text/plain": [
       "     gender race/ethnicity parent_education_level         lunch  \\\n",
       "149    male        group E     associate's degree  free/reduced   \n",
       "451  female        group E           some college      standard   \n",
       "458  female        group E      bachelor's degree      standard   \n",
       "623    male        group A           some college      standard   \n",
       "625    male        group D           some college      standard   \n",
       "916    male        group E      bachelor's degree      standard   \n",
       "962  female        group E     associate's degree      standard   \n",
       "\n",
       "    test_prep_course  math  \n",
       "149        completed   100  \n",
       "451             none   100  \n",
       "458             none   100  \n",
       "623        completed   100  \n",
       "625        completed   100  \n",
       "916        completed   100  \n",
       "962             none   100  "
      ]
     },
     "execution_count": 218,
     "metadata": {},
     "output_type": "execute_result"
    }
   ],
   "source": [
    "ds[ds['math']==100]"
   ]
  }
 ],
 "metadata": {
  "kernelspec": {
   "display_name": "Python 3 (ipykernel)",
   "language": "python",
   "name": "python3"
  },
  "language_info": {
   "codemirror_mode": {
    "name": "ipython",
    "version": 3
   },
   "file_extension": ".py",
   "mimetype": "text/x-python",
   "name": "python",
   "nbconvert_exporter": "python",
   "pygments_lexer": "ipython3",
   "version": "3.9.7"
  }
 },
 "nbformat": 4,
 "nbformat_minor": 5
}
